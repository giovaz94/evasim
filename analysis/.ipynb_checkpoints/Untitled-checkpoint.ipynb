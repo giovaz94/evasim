{
 "cells": [
  {
   "cell_type": "code",
   "execution_count": 2,
   "id": "ee4e6027-0412-4f66-844f-d1bc902e4c2c",
   "metadata": {},
   "outputs": [],
   "source": [
    "import re\n",
    "import pandas as pd\n",
    "import matplotlib.pyplot as plt\n",
    "import seaborn as sns\n",
    "from datetime import datetime"
   ]
  },
  {
   "cell_type": "code",
   "execution_count": 6,
   "id": "608829e2-8377-4f78-8b2a-7cd2ec681a31",
   "metadata": {},
   "outputs": [],
   "source": [
    "folders = ['dove', 'hawk', 'samenumber']\n",
    "log_pattern = re.compile(r\"\\[(\\d+)\\] Round N°: (\\d+) Hawk: (\\d+) Dove: (\\d+)\")\n"
   ]
  },
  {
   "cell_type": "code",
   "execution_count": null,
   "id": "c8c6263a-1ebb-44a1-a3fc-61d80e4f8805",
   "metadata": {},
   "outputs": [],
   "source": [
    "records = []\n",
    "for folder in folders:\n",
    "    for filename in os.listdir(folder):\n",
    "        if filename.startswith(\"run\") and filename.endswith(\".log\"):\n",
    "            path = os.path.join(folder, filename)\n",
    "            with open(path, 'r') as file:\n",
    "                for line in file:\n",
    "                    match = log_pattern.match(line.strip())\n",
    "                    if match:\n",
    "                        timestamp, round_num, hawk, dove = match.groups()\n",
    "                        dt = datetime.fromtimestamp(int(timestamp) / 1000)\n",
    "                        records.append({\n",
    "                            \"Folder\": folder,\n",
    "                            \"Round\": int(round_num),\n",
    "                            \"Hawk\": int(hawk),\n",
    "                            \"Dove\": int(dove),\n",
    "                            \"Timestamp\": dt\n",
    "                        })"
   ]
  },
  {
   "cell_type": "code",
   "execution_count": 4,
   "id": "4206ddfc-8c2f-4fd3-9f28-970ec8e44642",
   "metadata": {},
   "outputs": [
    {
     "ename": "NameError",
     "evalue": "name 'log_data' is not defined",
     "output_type": "error",
     "traceback": [
      "\u001b[0;31m---------------------------------------------------------------------------\u001b[0m",
      "\u001b[0;31mNameError\u001b[0m                                 Traceback (most recent call last)",
      "Cell \u001b[0;32mIn[4], line 1\u001b[0m\n\u001b[0;32m----> 1\u001b[0m \u001b[38;5;28;01mfor\u001b[39;00m match \u001b[38;5;129;01min\u001b[39;00m re\u001b[38;5;241m.\u001b[39mfinditer(pattern, \u001b[43mlog_data\u001b[49m):\n\u001b[1;32m      2\u001b[0m     timestamp, round_num, hawk, dove \u001b[38;5;241m=\u001b[39m match\u001b[38;5;241m.\u001b[39mgroups()\n\u001b[1;32m      3\u001b[0m     dt \u001b[38;5;241m=\u001b[39m datetime\u001b[38;5;241m.\u001b[39mfromtimestamp(\u001b[38;5;28mint\u001b[39m(timestamp) \u001b[38;5;241m/\u001b[39m \u001b[38;5;241m1000\u001b[39m)\n",
      "\u001b[0;31mNameError\u001b[0m: name 'log_data' is not defined"
     ]
    }
   ],
   "source": [
    "for match in re.finditer(pattern, log_data):\n",
    "    timestamp, round_num, hawk, dove = match.groups()\n",
    "    dt = datetime.fromtimestamp(int(timestamp) / 1000)\n",
    "    data.append((dt, int(round_num), int(hawk), int(dove)))\n",
    "\n",
    "# Convert to DataFrame\n",
    "df = pd.DataFrame(data, columns=[\"Timestamp\", \"Round\", \"Hawk\", \"Dove\"])\n",
    "\n",
    "# Melt DataFrame for Seaborn\n",
    "df_melted = df.melt(id_vars=[\"Round\", \"Timestamp\"], value_vars=[\"Hawk\", \"Dove\"],\n",
    "                    var_name=\"Strategy\", value_name=\"Count\")"
   ]
  },
  {
   "cell_type": "code",
   "execution_count": null,
   "id": "4a09e2f2-24c3-4766-b1a9-6ff7075e2000",
   "metadata": {},
   "outputs": [],
   "source": []
  }
 ],
 "metadata": {
  "kernelspec": {
   "display_name": "Python 3 (ipykernel)",
   "language": "python",
   "name": "python3"
  },
  "language_info": {
   "codemirror_mode": {
    "name": "ipython",
    "version": 3
   },
   "file_extension": ".py",
   "mimetype": "text/x-python",
   "name": "python",
   "nbconvert_exporter": "python",
   "pygments_lexer": "ipython3",
   "version": "3.10.16"
  }
 },
 "nbformat": 4,
 "nbformat_minor": 5
}
